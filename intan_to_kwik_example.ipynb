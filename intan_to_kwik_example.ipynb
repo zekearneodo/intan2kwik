{
 "cells": [
  {
   "cell_type": "code",
   "execution_count": 1,
   "metadata": {},
   "outputs": [
    {
     "name": "stderr",
     "output_type": "stream",
     "text": [
      "2018-12-17 12:06:30,327 - root - INFO - Logger set\n"
     ]
    }
   ],
   "source": [
    "import os\n",
    "import glob\n",
    "import pandas as pd\n",
    "import logging\n",
    "\n",
    "from intan2kwik import kwd as kwd\n",
    "\n",
    "# Setup the logger\n",
    "logger = logging.getLogger()\n",
    "logger.setLevel(logging.DEBUG)\n",
    "formatter = logging.Formatter('%(asctime)s - %(name)s - %(levelname)s - %(message)s')\n",
    "\n",
    "ch = logging.StreamHandler()\n",
    "ch.setLevel(logging.INFO)\n",
    "ch.setFormatter(formatter)\n",
    "logger.addHandler(ch)\n",
    "\n",
    "logger.info('Logger set')"
   ]
  },
  {
   "cell_type": "code",
   "execution_count": 4,
   "metadata": {},
   "outputs": [
    {
     "name": "stderr",
     "output_type": "stream",
     "text": [
      "2018-12-17 12:08:05,759 - intan2kwik.kwd - INFO - reading intan chans data across all of rec /Users/zeke/experiment/raw_data/o3g3/neural/awake_mix_test\n",
      "2018-12-17 12:08:05,766 - intan2kwik.kwd - INFO - Found 5 .rhd files split in 3 recordings\n",
      "2018-12-17 12:08:05,767 - intan2kwik.kwd - INFO - dest file: /Users/zeke/experiment/raw_data/o3g3/neural/awake_mix_test/experiment.raw.kwd\n"
     ]
    },
    {
     "data": {
      "application/vnd.jupyter.widget-view+json": {
       "model_id": "90fd9c7bacdc4c429cc5a289cd000a42",
       "version_major": 2,
       "version_minor": 0
      },
      "text/plain": [
       "HBox(children=(IntProgress(value=0, description='Sess', max=3), HTML(value='')))"
      ]
     },
     "metadata": {},
     "output_type": "display_data"
    },
    {
     "data": {
      "application/vnd.jupyter.widget-view+json": {
       "model_id": "",
       "version_major": 2,
       "version_minor": 0
      },
      "text/plain": [
       "HBox(children=(IntProgress(value=0, description='rec 0', max=1), HTML(value='')))"
      ]
     },
     "metadata": {},
     "output_type": "display_data"
    },
    {
     "data": {
      "application/vnd.jupyter.widget-view+json": {
       "model_id": "",
       "version_major": 2,
       "version_minor": 0
      },
      "text/plain": [
       "HBox(children=(IntProgress(value=0, description='raw_intan_180908_143446.rhd', max=200004), HTML(value='')))"
      ]
     },
     "metadata": {},
     "output_type": "display_data"
    },
    {
     "data": {
      "application/vnd.jupyter.widget-view+json": {
       "model_id": "",
       "version_major": 2,
       "version_minor": 0
      },
      "text/plain": [
       "HBox(children=(IntProgress(value=0, description='notch filter', max=17), HTML(value='')))"
      ]
     },
     "metadata": {},
     "output_type": "display_data"
    },
    {
     "data": {
      "application/vnd.jupyter.widget-view+json": {
       "model_id": "",
       "version_major": 2,
       "version_minor": 0
      },
      "text/plain": [
       "HBox(children=(IntProgress(value=0, description='rec 1', max=2), HTML(value='')))"
      ]
     },
     "metadata": {},
     "output_type": "display_data"
    },
    {
     "data": {
      "application/vnd.jupyter.widget-view+json": {
       "model_id": "",
       "version_major": 2,
       "version_minor": 0
      },
      "text/plain": [
       "HBox(children=(IntProgress(value=0, description='raw_intan_180908_185537.rhd', max=200004), HTML(value='')))"
      ]
     },
     "metadata": {},
     "output_type": "display_data"
    },
    {
     "data": {
      "application/vnd.jupyter.widget-view+json": {
       "model_id": "",
       "version_major": 2,
       "version_minor": 0
      },
      "text/plain": [
       "HBox(children=(IntProgress(value=0, description='notch filter', max=17), HTML(value='')))"
      ]
     },
     "metadata": {},
     "output_type": "display_data"
    },
    {
     "data": {
      "application/vnd.jupyter.widget-view+json": {
       "model_id": "",
       "version_major": 2,
       "version_minor": 0
      },
      "text/plain": [
       "HBox(children=(IntProgress(value=0, description='raw_intan_180908_190537.rhd', max=200004), HTML(value='')))"
      ]
     },
     "metadata": {},
     "output_type": "display_data"
    },
    {
     "data": {
      "application/vnd.jupyter.widget-view+json": {
       "model_id": "",
       "version_major": 2,
       "version_minor": 0
      },
      "text/plain": [
       "HBox(children=(IntProgress(value=0, description='notch filter', max=17), HTML(value='')))"
      ]
     },
     "metadata": {},
     "output_type": "display_data"
    },
    {
     "data": {
      "application/vnd.jupyter.widget-view+json": {
       "model_id": "",
       "version_major": 2,
       "version_minor": 0
      },
      "text/plain": [
       "HBox(children=(IntProgress(value=0, description='rec 2', max=2), HTML(value='')))"
      ]
     },
     "metadata": {},
     "output_type": "display_data"
    },
    {
     "data": {
      "application/vnd.jupyter.widget-view+json": {
       "model_id": "",
       "version_major": 2,
       "version_minor": 0
      },
      "text/plain": [
       "HBox(children=(IntProgress(value=0, description='raw_intan_180908_191538.rhd', max=200004), HTML(value='')))"
      ]
     },
     "metadata": {},
     "output_type": "display_data"
    },
    {
     "data": {
      "application/vnd.jupyter.widget-view+json": {
       "model_id": "",
       "version_major": 2,
       "version_minor": 0
      },
      "text/plain": [
       "HBox(children=(IntProgress(value=0, description='notch filter', max=17), HTML(value='')))"
      ]
     },
     "metadata": {},
     "output_type": "display_data"
    },
    {
     "data": {
      "application/vnd.jupyter.widget-view+json": {
       "model_id": "",
       "version_major": 2,
       "version_minor": 0
      },
      "text/plain": [
       "HBox(children=(IntProgress(value=0, description='raw_intan_180908_192538.rhd', max=200004), HTML(value='')))"
      ]
     },
     "metadata": {},
     "output_type": "display_data"
    },
    {
     "data": {
      "application/vnd.jupyter.widget-view+json": {
       "model_id": "",
       "version_major": 2,
       "version_minor": 0
      },
      "text/plain": [
       "HBox(children=(IntProgress(value=0, description='notch filter', max=17), HTML(value='')))"
      ]
     },
     "metadata": {},
     "output_type": "display_data"
    },
    {
     "name": "stdout",
     "output_type": "stream",
     "text": [
      "\n"
     ]
    }
   ],
   "source": [
    "rhd_folder = '/Users/zeke/experiment/raw_data/o3g3/neural/awake_mix_test'\n",
    "kwd_folder = os.path.join(rhd_folder, 'kwd')\n",
    "\n",
    "os.makedirs(kwd_folder, exist_ok=True)\n",
    "kwd_file_path = os.path.join(rhd_folder, 'experiment.raw.kwd')\n",
    "\n",
    "first_intan_header, all_rhx_pd = kwd.intan_to_kwd(rhd_folder, kwd_file_path, include_channels=['amplifier', 'board_adc'])"
   ]
  },
  {
   "cell_type": "code",
   "execution_count": 5,
   "metadata": {},
   "outputs": [
    {
     "data": {
      "text/html": [
       "<div>\n",
       "<style scoped>\n",
       "    .dataframe tbody tr th:only-of-type {\n",
       "        vertical-align: middle;\n",
       "    }\n",
       "\n",
       "    .dataframe tbody tr th {\n",
       "        vertical-align: top;\n",
       "    }\n",
       "\n",
       "    .dataframe thead th {\n",
       "        text-align: right;\n",
       "    }\n",
       "</style>\n",
       "<table border=\"1\" class=\"dataframe\">\n",
       "  <thead>\n",
       "    <tr style=\"text-align: right;\">\n",
       "      <th></th>\n",
       "      <th>path</th>\n",
       "      <th>f_name</th>\n",
       "      <th>t_stamp</th>\n",
       "      <th>t_diff</th>\n",
       "      <th>rec_break</th>\n",
       "      <th>rec</th>\n",
       "    </tr>\n",
       "  </thead>\n",
       "  <tbody>\n",
       "    <tr>\n",
       "      <th>0</th>\n",
       "      <td>/Users/zeke/experiment/raw_data/o3g3/neural/aw...</td>\n",
       "      <td>raw_intan_180908_143446.rhd</td>\n",
       "      <td>0018-09-08 14:34:46</td>\n",
       "      <td>NaT</td>\n",
       "      <td>False</td>\n",
       "      <td>0</td>\n",
       "    </tr>\n",
       "    <tr>\n",
       "      <th>1</th>\n",
       "      <td>/Users/zeke/experiment/raw_data/o3g3/neural/aw...</td>\n",
       "      <td>raw_intan_180908_185537.rhd</td>\n",
       "      <td>0018-09-08 18:55:37</td>\n",
       "      <td>04:20:51</td>\n",
       "      <td>True</td>\n",
       "      <td>1</td>\n",
       "    </tr>\n",
       "    <tr>\n",
       "      <th>2</th>\n",
       "      <td>/Users/zeke/experiment/raw_data/o3g3/neural/aw...</td>\n",
       "      <td>raw_intan_180908_190537.rhd</td>\n",
       "      <td>0018-09-08 19:05:37</td>\n",
       "      <td>00:10:00</td>\n",
       "      <td>False</td>\n",
       "      <td>1</td>\n",
       "    </tr>\n",
       "    <tr>\n",
       "      <th>3</th>\n",
       "      <td>/Users/zeke/experiment/raw_data/o3g3/neural/aw...</td>\n",
       "      <td>raw_intan_180908_191538.rhd</td>\n",
       "      <td>0018-09-08 19:15:38</td>\n",
       "      <td>00:10:01</td>\n",
       "      <td>True</td>\n",
       "      <td>2</td>\n",
       "    </tr>\n",
       "    <tr>\n",
       "      <th>4</th>\n",
       "      <td>/Users/zeke/experiment/raw_data/o3g3/neural/aw...</td>\n",
       "      <td>raw_intan_180908_192538.rhd</td>\n",
       "      <td>0018-09-08 19:25:38</td>\n",
       "      <td>00:10:00</td>\n",
       "      <td>False</td>\n",
       "      <td>2</td>\n",
       "    </tr>\n",
       "  </tbody>\n",
       "</table>\n",
       "</div>"
      ],
      "text/plain": [
       "                                                path  \\\n",
       "0  /Users/zeke/experiment/raw_data/o3g3/neural/aw...   \n",
       "1  /Users/zeke/experiment/raw_data/o3g3/neural/aw...   \n",
       "2  /Users/zeke/experiment/raw_data/o3g3/neural/aw...   \n",
       "3  /Users/zeke/experiment/raw_data/o3g3/neural/aw...   \n",
       "4  /Users/zeke/experiment/raw_data/o3g3/neural/aw...   \n",
       "\n",
       "                        f_name              t_stamp   t_diff  rec_break  rec  \n",
       "0  raw_intan_180908_143446.rhd  0018-09-08 14:34:46      NaT      False    0  \n",
       "1  raw_intan_180908_185537.rhd  0018-09-08 18:55:37 04:20:51       True    1  \n",
       "2  raw_intan_180908_190537.rhd  0018-09-08 19:05:37 00:10:00      False    1  \n",
       "3  raw_intan_180908_191538.rhd  0018-09-08 19:15:38 00:10:01       True    2  \n",
       "4  raw_intan_180908_192538.rhd  0018-09-08 19:25:38 00:10:00      False    2  "
      ]
     },
     "execution_count": 5,
     "metadata": {},
     "output_type": "execute_result"
    }
   ],
   "source": [
    "all_rhx_pd.head()"
   ]
  }
 ],
 "metadata": {
  "kernelspec": {
   "display_name": "mountain",
   "language": "python",
   "name": "mountain"
  },
  "language_info": {
   "codemirror_mode": {
    "name": "ipython",
    "version": 3
   },
   "file_extension": ".py",
   "mimetype": "text/x-python",
   "name": "python",
   "nbconvert_exporter": "python",
   "pygments_lexer": "ipython3",
   "version": "3.6.6"
  }
 },
 "nbformat": 4,
 "nbformat_minor": 2
}
